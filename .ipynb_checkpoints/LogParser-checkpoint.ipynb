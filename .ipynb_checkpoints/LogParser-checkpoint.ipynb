{
 "cells": [
  {
   "cell_type": "code",
   "execution_count": 6,
   "metadata": {
    "collapsed": false
   },
   "outputs": [
    {
     "ename": "IndentationError",
     "evalue": "unexpected indent (<ipython-input-6-682cd99a65c3>, line 13)",
     "output_type": "error",
     "traceback": [
      "\u001b[0;36m  File \u001b[0;32m\"<ipython-input-6-682cd99a65c3>\"\u001b[0;36m, line \u001b[0;32m13\u001b[0m\n\u001b[0;31m    for num, line in enumerate(f): #num is the line/index number of the text file, line is the increment index\u001b[0m\n\u001b[0m    ^\u001b[0m\n\u001b[0;31mIndentationError\u001b[0m\u001b[0;31m:\u001b[0m unexpected indent\n"
     ]
    }
   ],
   "source": [
    "import matplotlib.pyplot as plt\n",
    "from matplotlib.collections import LineCollection\n",
    "\n",
    "##Set PATH\n",
    "path='/Users/louise/Documents/NOT_CODE/OR_LIGHTS_UserStudy/loggerfiles/logging_files_april7/'\n",
    "file = 'loggerFile_tablet.txt'\n",
    "\n",
    "fileList=[]\n",
    "\n",
    "f = open(path+file, 'r') #Open file in read mode\n",
    "print('Displaying: ', file)\n",
    "    for num, line in enumerate(f): #num is the line/index number of the text file, line is the increment index\n",
    "        fileList.append(line.split()) #make the list from the file\n",
    "    \n"
   ]
  },
  {
   "cell_type": "code",
   "execution_count": null,
   "metadata": {
    "collapsed": true
   },
   "outputs": [],
   "source": []
  }
 ],
 "metadata": {
  "kernelspec": {
   "display_name": "Python 3",
   "language": "python",
   "name": "python3"
  },
  "language_info": {
   "codemirror_mode": {
    "name": "ipython",
    "version": 3
   },
   "file_extension": ".py",
   "mimetype": "text/x-python",
   "name": "python",
   "nbconvert_exporter": "python",
   "pygments_lexer": "ipython3",
   "version": "3.6.0"
  }
 },
 "nbformat": 4,
 "nbformat_minor": 2
}
